{
  "nbformat": 4,
  "nbformat_minor": 0,
  "metadata": {
    "colab": {
      "provenance": [],
      "authorship_tag": "ABX9TyON8X5N6hm9PUVncswE+cC9",
      "include_colab_link": true
    },
    "kernelspec": {
      "name": "ir",
      "display_name": "R"
    },
    "language_info": {
      "name": "R"
    }
  },
  "cells": [
    {
      "cell_type": "markdown",
      "metadata": {
        "id": "view-in-github",
        "colab_type": "text"
      },
      "source": [
        "<a href=\"https://colab.research.google.com/github/danielmartincampos/FIA-TP5/blob/main/TP5_PARTE2.ipynb\" target=\"_parent\"><img src=\"https://colab.research.google.com/assets/colab-badge.svg\" alt=\"Open In Colab\"/></a>"
      ]
    },
    {
      "cell_type": "markdown",
      "source": [
        "Instalamos librerías"
      ],
      "metadata": {
        "id": "FTC-M7NJQoDJ"
      }
    },
    {
      "cell_type": "code",
      "source": [
        "install.packages(\"e1071\")#svm\n",
        "install.packages(\"randomForest\") #randomForest\n",
        "install.packages(\"clock\") #necesaria para instalar 'caret'\n",
        "install.packages(\"caret\") #para el particionado del df\n",
        "install.packages(\"fastDummies\") #para realizar el casteo (one-hot encoding)"
      ],
      "metadata": {
        "id": "GCuelRvXQmQw",
        "colab": {
          "base_uri": "https://localhost:8080/"
        },
        "outputId": "6d4fbaee-f5b8-467c-d95e-cad45f1e8585"
      },
      "execution_count": null,
      "outputs": [
        {
          "output_type": "stream",
          "name": "stderr",
          "text": [
            "Installing package into ‘/usr/local/lib/R/site-library’\n",
            "(as ‘lib’ is unspecified)\n",
            "\n",
            "also installing the dependency ‘proxy’\n",
            "\n",
            "\n",
            "Installing package into ‘/usr/local/lib/R/site-library’\n",
            "(as ‘lib’ is unspecified)\n",
            "\n",
            "Installing package into ‘/usr/local/lib/R/site-library’\n",
            "(as ‘lib’ is unspecified)\n",
            "\n",
            "Installing package into ‘/usr/local/lib/R/site-library’\n",
            "(as ‘lib’ is unspecified)\n",
            "\n",
            "also installing the dependencies ‘listenv’, ‘parallelly’, ‘future’, ‘globals’, ‘shape’, ‘future.apply’, ‘numDeriv’, ‘progressr’, ‘SQUAREM’, ‘diagram’, ‘lava’, ‘prodlim’, ‘iterators’, ‘Rcpp’, ‘gower’, ‘hardhat’, ‘ipred’, ‘timeDate’, ‘foreach’, ‘ModelMetrics’, ‘plyr’, ‘pROC’, ‘recipes’, ‘reshape2’\n",
            "\n",
            "\n",
            "Installing package into ‘/usr/local/lib/R/site-library’\n",
            "(as ‘lib’ is unspecified)\n",
            "\n"
          ]
        }
      ]
    },
    {
      "cell_type": "markdown",
      "source": [
        "Importamos librerías"
      ],
      "metadata": {
        "id": "iKlRG_Q_QzKV"
      }
    },
    {
      "cell_type": "code",
      "source": [
        "library(e1071)\n",
        "library(randomForest)\n",
        "library(dplyr)\n",
        "library(caret)\n",
        "library(reshape2)\n",
        "library(fastDummies)"
      ],
      "metadata": {
        "id": "GYvmH_ocQuIM",
        "colab": {
          "base_uri": "https://localhost:8080/"
        },
        "outputId": "cef313d9-2baa-4847-b581-596370c7e2a9"
      },
      "execution_count": null,
      "outputs": [
        {
          "output_type": "stream",
          "name": "stderr",
          "text": [
            "randomForest 4.7-1.1\n",
            "\n",
            "Type rfNews() to see new features/changes/bug fixes.\n",
            "\n",
            "\n",
            "Attaching package: ‘dplyr’\n",
            "\n",
            "\n",
            "The following object is masked from ‘package:randomForest’:\n",
            "\n",
            "    combine\n",
            "\n",
            "\n",
            "The following objects are masked from ‘package:stats’:\n",
            "\n",
            "    filter, lag\n",
            "\n",
            "\n",
            "The following objects are masked from ‘package:base’:\n",
            "\n",
            "    intersect, setdiff, setequal, union\n",
            "\n",
            "\n",
            "Loading required package: ggplot2\n",
            "\n",
            "\n",
            "Attaching package: ‘ggplot2’\n",
            "\n",
            "\n",
            "The following object is masked from ‘package:randomForest’:\n",
            "\n",
            "    margin\n",
            "\n",
            "\n",
            "Loading required package: lattice\n",
            "\n",
            "Thank you for using fastDummies!\n",
            "\n",
            "To acknowledge our work, please cite the package:\n",
            "\n",
            "Kaplan, J. & Schlegel, B. (2023). fastDummies: Fast Creation of Dummy (Binary) Columns and Rows from Categorical Variables. Version 1.7.1. URL: https://github.com/jacobkap/fastDummies, https://jacobkap.github.io/fastDummies/.\n",
            "\n"
          ]
        }
      ]
    },
    {
      "cell_type": "code",
      "execution_count": null,
      "metadata": {
        "id": "_abPp0Sqs5K3"
      },
      "outputs": [],
      "source": [
        "df_credit_card <- read.csv(\"/content/Credit_card_limpio.csv\")"
      ]
    },
    {
      "cell_type": "code",
      "source": [
        "head(df_credit_card)"
      ],
      "metadata": {
        "id": "CSPOebu7GmKo",
        "colab": {
          "base_uri": "https://localhost:8080/",
          "height": 479
        },
        "outputId": "dda895af-8961-446d-e4f3-2b6137430e5f"
      },
      "execution_count": null,
      "outputs": [
        {
          "output_type": "display_data",
          "data": {
            "text/html": [
              "<table class=\"dataframe\">\n",
              "<caption>A data.frame: 6 × 21</caption>\n",
              "<thead>\n",
              "\t<tr><th></th><th scope=col>X</th><th scope=col>Ind_ID</th><th scope=col>GENDER</th><th scope=col>Car_Owner</th><th scope=col>Propert_Owner</th><th scope=col>CHILDREN</th><th scope=col>Annual_income</th><th scope=col>Type_Income</th><th scope=col>EDUCATION</th><th scope=col>Marital_status</th><th scope=col>⋯</th><th scope=col>Employed_days</th><th scope=col>Mobile_phone</th><th scope=col>Work_Phone</th><th scope=col>Phone</th><th scope=col>EMAIL_ID</th><th scope=col>Family_Members</th><th scope=col>label</th><th scope=col>Birthday_date</th><th scope=col>age</th><th scope=col>Employed</th></tr>\n",
              "\t<tr><th></th><th scope=col>&lt;int&gt;</th><th scope=col>&lt;int&gt;</th><th scope=col>&lt;chr&gt;</th><th scope=col>&lt;chr&gt;</th><th scope=col>&lt;chr&gt;</th><th scope=col>&lt;int&gt;</th><th scope=col>&lt;dbl&gt;</th><th scope=col>&lt;chr&gt;</th><th scope=col>&lt;chr&gt;</th><th scope=col>&lt;chr&gt;</th><th scope=col>⋯</th><th scope=col>&lt;int&gt;</th><th scope=col>&lt;int&gt;</th><th scope=col>&lt;int&gt;</th><th scope=col>&lt;int&gt;</th><th scope=col>&lt;int&gt;</th><th scope=col>&lt;int&gt;</th><th scope=col>&lt;int&gt;</th><th scope=col>&lt;chr&gt;</th><th scope=col>&lt;int&gt;</th><th scope=col>&lt;chr&gt;</th></tr>\n",
              "</thead>\n",
              "<tbody>\n",
              "\t<tr><th scope=row>1</th><td>1</td><td>5008827</td><td>M</td><td>Y</td><td>Y</td><td>0</td><td>180000</td><td>Pensioner           </td><td>Higher education             </td><td>Married  </td><td>⋯</td><td>365243</td><td>1</td><td>0</td><td>0</td><td>0</td><td>2</td><td>1</td><td>1972-06-29</td><td>51</td><td>n</td></tr>\n",
              "\t<tr><th scope=row>2</th><td>2</td><td>5008865</td><td>F</td><td>Y</td><td>Y</td><td>2</td><td>135000</td><td>Working             </td><td>Secondary / secondary special</td><td>Married  </td><td>⋯</td><td> -3173</td><td>1</td><td>0</td><td>0</td><td>0</td><td>4</td><td>0</td><td>1980-09-26</td><td>43</td><td>y</td></tr>\n",
              "\t<tr><th scope=row>3</th><td>3</td><td>5008889</td><td>F</td><td>N</td><td>Y</td><td>0</td><td>247500</td><td>Commercial associate</td><td>Higher education             </td><td>Separated</td><td>⋯</td><td> -1347</td><td>1</td><td>0</td><td>0</td><td>0</td><td>1</td><td>0</td><td>1977-04-20</td><td>46</td><td>y</td></tr>\n",
              "\t<tr><th scope=row>4</th><td>4</td><td>5009000</td><td>M</td><td>Y</td><td>Y</td><td>0</td><td>157500</td><td>Working             </td><td>Secondary / secondary special</td><td>Married  </td><td>⋯</td><td>  -828</td><td>1</td><td>0</td><td>0</td><td>0</td><td>2</td><td>0</td><td>1996-09-16</td><td>27</td><td>y</td></tr>\n",
              "\t<tr><th scope=row>5</th><td>5</td><td>5009023</td><td>F</td><td>N</td><td>Y</td><td>2</td><td>216000</td><td>State servant       </td><td>Higher education             </td><td>Married  </td><td>⋯</td><td> -3112</td><td>1</td><td>0</td><td>0</td><td>1</td><td>4</td><td>0</td><td>1981-08-09</td><td>42</td><td>y</td></tr>\n",
              "\t<tr><th scope=row>6</th><td>6</td><td>5009053</td><td>F</td><td>N</td><td>Y</td><td>2</td><td>202500</td><td>Working             </td><td>Higher education             </td><td>Married  </td><td>⋯</td><td> -2289</td><td>1</td><td>0</td><td>0</td><td>1</td><td>4</td><td>0</td><td>1993-10-12</td><td>30</td><td>y</td></tr>\n",
              "</tbody>\n",
              "</table>\n"
            ],
            "text/markdown": "\nA data.frame: 6 × 21\n\n| <!--/--> | X &lt;int&gt; | Ind_ID &lt;int&gt; | GENDER &lt;chr&gt; | Car_Owner &lt;chr&gt; | Propert_Owner &lt;chr&gt; | CHILDREN &lt;int&gt; | Annual_income &lt;dbl&gt; | Type_Income &lt;chr&gt; | EDUCATION &lt;chr&gt; | Marital_status &lt;chr&gt; | ⋯ ⋯ | Employed_days &lt;int&gt; | Mobile_phone &lt;int&gt; | Work_Phone &lt;int&gt; | Phone &lt;int&gt; | EMAIL_ID &lt;int&gt; | Family_Members &lt;int&gt; | label &lt;int&gt; | Birthday_date &lt;chr&gt; | age &lt;int&gt; | Employed &lt;chr&gt; |\n|---|---|---|---|---|---|---|---|---|---|---|---|---|---|---|---|---|---|---|---|---|---|\n| 1 | 1 | 5008827 | M | Y | Y | 0 | 180000 | Pensioner            | Higher education              | Married   | ⋯ | 365243 | 1 | 0 | 0 | 0 | 2 | 1 | 1972-06-29 | 51 | n |\n| 2 | 2 | 5008865 | F | Y | Y | 2 | 135000 | Working              | Secondary / secondary special | Married   | ⋯ |  -3173 | 1 | 0 | 0 | 0 | 4 | 0 | 1980-09-26 | 43 | y |\n| 3 | 3 | 5008889 | F | N | Y | 0 | 247500 | Commercial associate | Higher education              | Separated | ⋯ |  -1347 | 1 | 0 | 0 | 0 | 1 | 0 | 1977-04-20 | 46 | y |\n| 4 | 4 | 5009000 | M | Y | Y | 0 | 157500 | Working              | Secondary / secondary special | Married   | ⋯ |   -828 | 1 | 0 | 0 | 0 | 2 | 0 | 1996-09-16 | 27 | y |\n| 5 | 5 | 5009023 | F | N | Y | 2 | 216000 | State servant        | Higher education              | Married   | ⋯ |  -3112 | 1 | 0 | 0 | 1 | 4 | 0 | 1981-08-09 | 42 | y |\n| 6 | 6 | 5009053 | F | N | Y | 2 | 202500 | Working              | Higher education              | Married   | ⋯ |  -2289 | 1 | 0 | 0 | 1 | 4 | 0 | 1993-10-12 | 30 | y |\n\n",
            "text/latex": "A data.frame: 6 × 21\n\\begin{tabular}{r|lllllllllllllllllllll}\n  & X & Ind\\_ID & GENDER & Car\\_Owner & Propert\\_Owner & CHILDREN & Annual\\_income & Type\\_Income & EDUCATION & Marital\\_status & ⋯ & Employed\\_days & Mobile\\_phone & Work\\_Phone & Phone & EMAIL\\_ID & Family\\_Members & label & Birthday\\_date & age & Employed\\\\\n  & <int> & <int> & <chr> & <chr> & <chr> & <int> & <dbl> & <chr> & <chr> & <chr> & ⋯ & <int> & <int> & <int> & <int> & <int> & <int> & <int> & <chr> & <int> & <chr>\\\\\n\\hline\n\t1 & 1 & 5008827 & M & Y & Y & 0 & 180000 & Pensioner            & Higher education              & Married   & ⋯ & 365243 & 1 & 0 & 0 & 0 & 2 & 1 & 1972-06-29 & 51 & n\\\\\n\t2 & 2 & 5008865 & F & Y & Y & 2 & 135000 & Working              & Secondary / secondary special & Married   & ⋯ &  -3173 & 1 & 0 & 0 & 0 & 4 & 0 & 1980-09-26 & 43 & y\\\\\n\t3 & 3 & 5008889 & F & N & Y & 0 & 247500 & Commercial associate & Higher education              & Separated & ⋯ &  -1347 & 1 & 0 & 0 & 0 & 1 & 0 & 1977-04-20 & 46 & y\\\\\n\t4 & 4 & 5009000 & M & Y & Y & 0 & 157500 & Working              & Secondary / secondary special & Married   & ⋯ &   -828 & 1 & 0 & 0 & 0 & 2 & 0 & 1996-09-16 & 27 & y\\\\\n\t5 & 5 & 5009023 & F & N & Y & 2 & 216000 & State servant        & Higher education              & Married   & ⋯ &  -3112 & 1 & 0 & 0 & 1 & 4 & 0 & 1981-08-09 & 42 & y\\\\\n\t6 & 6 & 5009053 & F & N & Y & 2 & 202500 & Working              & Higher education              & Married   & ⋯ &  -2289 & 1 & 0 & 0 & 1 & 4 & 0 & 1993-10-12 & 30 & y\\\\\n\\end{tabular}\n",
            "text/plain": [
              "  X Ind_ID  GENDER Car_Owner Propert_Owner CHILDREN Annual_income\n",
              "1 1 5008827 M      Y         Y             0        180000       \n",
              "2 2 5008865 F      Y         Y             2        135000       \n",
              "3 3 5008889 F      N         Y             0        247500       \n",
              "4 4 5009000 M      Y         Y             0        157500       \n",
              "5 5 5009023 F      N         Y             2        216000       \n",
              "6 6 5009053 F      N         Y             2        202500       \n",
              "  Type_Income          EDUCATION                     Marital_status ⋯\n",
              "1 Pensioner            Higher education              Married        ⋯\n",
              "2 Working              Secondary / secondary special Married        ⋯\n",
              "3 Commercial associate Higher education              Separated      ⋯\n",
              "4 Working              Secondary / secondary special Married        ⋯\n",
              "5 State servant        Higher education              Married        ⋯\n",
              "6 Working              Higher education              Married        ⋯\n",
              "  Employed_days Mobile_phone Work_Phone Phone EMAIL_ID Family_Members label\n",
              "1 365243        1            0          0     0        2              1    \n",
              "2  -3173        1            0          0     0        4              0    \n",
              "3  -1347        1            0          0     0        1              0    \n",
              "4   -828        1            0          0     0        2              0    \n",
              "5  -3112        1            0          0     1        4              0    \n",
              "6  -2289        1            0          0     1        4              0    \n",
              "  Birthday_date age Employed\n",
              "1 1972-06-29    51  n       \n",
              "2 1980-09-26    43  y       \n",
              "3 1977-04-20    46  y       \n",
              "4 1996-09-16    27  y       \n",
              "5 1981-08-09    42  y       \n",
              "6 1993-10-12    30  y       "
            ]
          },
          "metadata": {}
        }
      ]
    },
    {
      "cell_type": "markdown",
      "source": [
        "Dejamos las columnas con las que vamos a trabajar"
      ],
      "metadata": {
        "id": "bgQSFDDyKKBF"
      }
    },
    {
      "cell_type": "code",
      "source": [
        "colnames(df_credit_card)"
      ],
      "metadata": {
        "id": "Dlr1HcqVKSNb",
        "colab": {
          "base_uri": "https://localhost:8080/",
          "height": 69
        },
        "outputId": "c862270c-09c6-4777-c049-709dbec46e48"
      },
      "execution_count": null,
      "outputs": [
        {
          "output_type": "display_data",
          "data": {
            "text/html": [
              "<style>\n",
              ".list-inline {list-style: none; margin:0; padding: 0}\n",
              ".list-inline>li {display: inline-block}\n",
              ".list-inline>li:not(:last-child)::after {content: \"\\00b7\"; padding: 0 .5ex}\n",
              "</style>\n",
              "<ol class=list-inline><li>'X'</li><li>'Ind_ID'</li><li>'GENDER'</li><li>'Car_Owner'</li><li>'Propert_Owner'</li><li>'CHILDREN'</li><li>'Annual_income'</li><li>'Type_Income'</li><li>'EDUCATION'</li><li>'Marital_status'</li><li>'Housing_type'</li><li>'Employed_days'</li><li>'Mobile_phone'</li><li>'Work_Phone'</li><li>'Phone'</li><li>'EMAIL_ID'</li><li>'Family_Members'</li><li>'label'</li><li>'Birthday_date'</li><li>'age'</li><li>'Employed'</li></ol>\n"
            ],
            "text/markdown": "1. 'X'\n2. 'Ind_ID'\n3. 'GENDER'\n4. 'Car_Owner'\n5. 'Propert_Owner'\n6. 'CHILDREN'\n7. 'Annual_income'\n8. 'Type_Income'\n9. 'EDUCATION'\n10. 'Marital_status'\n11. 'Housing_type'\n12. 'Employed_days'\n13. 'Mobile_phone'\n14. 'Work_Phone'\n15. 'Phone'\n16. 'EMAIL_ID'\n17. 'Family_Members'\n18. 'label'\n19. 'Birthday_date'\n20. 'age'\n21. 'Employed'\n\n\n",
            "text/latex": "\\begin{enumerate*}\n\\item 'X'\n\\item 'Ind\\_ID'\n\\item 'GENDER'\n\\item 'Car\\_Owner'\n\\item 'Propert\\_Owner'\n\\item 'CHILDREN'\n\\item 'Annual\\_income'\n\\item 'Type\\_Income'\n\\item 'EDUCATION'\n\\item 'Marital\\_status'\n\\item 'Housing\\_type'\n\\item 'Employed\\_days'\n\\item 'Mobile\\_phone'\n\\item 'Work\\_Phone'\n\\item 'Phone'\n\\item 'EMAIL\\_ID'\n\\item 'Family\\_Members'\n\\item 'label'\n\\item 'Birthday\\_date'\n\\item 'age'\n\\item 'Employed'\n\\end{enumerate*}\n",
            "text/plain": [
              " [1] \"X\"              \"Ind_ID\"         \"GENDER\"         \"Car_Owner\"     \n",
              " [5] \"Propert_Owner\"  \"CHILDREN\"       \"Annual_income\"  \"Type_Income\"   \n",
              " [9] \"EDUCATION\"      \"Marital_status\" \"Housing_type\"   \"Employed_days\" \n",
              "[13] \"Mobile_phone\"   \"Work_Phone\"     \"Phone\"          \"EMAIL_ID\"      \n",
              "[17] \"Family_Members\" \"label\"          \"Birthday_date\"  \"age\"           \n",
              "[21] \"Employed\"      "
            ]
          },
          "metadata": {}
        }
      ]
    },
    {
      "cell_type": "code",
      "source": [
        "columnas_a_usar <- c('GENDER','Car_Owner','Propert_Owner','CHILDREN','Annual_income','Family_Members',\n",
        "  'label','age','Employed','EDUCATION', 'Marital_status', 'Type_Income', 'Housing_type')\n",
        "\n",
        "# Creamos un subconjunto con las columnas especificadas\n",
        "df_credit_card <- df_credit_card[ , columnas_a_usar]"
      ],
      "metadata": {
        "id": "-qAvMTsEiD3S"
      },
      "execution_count": null,
      "outputs": []
    },
    {
      "cell_type": "code",
      "source": [
        "str(df_credit_card) #Verificamos que haya quedado la estructura que deseamos"
      ],
      "metadata": {
        "id": "LBaSvyUITsBI",
        "colab": {
          "base_uri": "https://localhost:8080/"
        },
        "outputId": "780856c8-7be0-44cc-d627-7aeba7554539"
      },
      "execution_count": null,
      "outputs": [
        {
          "output_type": "stream",
          "name": "stdout",
          "text": [
            "'data.frame':\t1496 obs. of  13 variables:\n",
            " $ GENDER        : chr  \"M\" \"F\" \"F\" \"M\" ...\n",
            " $ Car_Owner     : chr  \"Y\" \"Y\" \"N\" \"Y\" ...\n",
            " $ Propert_Owner : chr  \"Y\" \"Y\" \"Y\" \"Y\" ...\n",
            " $ CHILDREN      : int  0 2 0 0 2 2 1 0 0 0 ...\n",
            " $ Annual_income : num  180000 135000 247500 157500 216000 ...\n",
            " $ Family_Members: int  2 4 1 2 4 4 3 1 2 2 ...\n",
            " $ label         : int  1 0 0 0 0 0 0 0 0 0 ...\n",
            " $ age           : int  51 43 46 27 42 30 48 43 43 57 ...\n",
            " $ Employed      : chr  \"n\" \"y\" \"y\" \"y\" ...\n",
            " $ EDUCATION     : chr  \"Higher education\" \"Secondary / secondary special\" \"Higher education\" \"Secondary / secondary special\" ...\n",
            " $ Marital_status: chr  \"Married\" \"Married\" \"Separated\" \"Married\" ...\n",
            " $ Type_Income   : chr  \"Pensioner\" \"Working\" \"Commercial associate\" \"Working\" ...\n",
            " $ Housing_type  : chr  \"House / apartment\" \"House / apartment\" \"Rented apartment\" \"House / apartment\" ...\n"
          ]
        }
      ]
    },
    {
      "cell_type": "code",
      "source": [
        "df_credit_card <- df_credit_card %>% select(-label, everything(), label) #Movemos la columna de la etiqueta al final"
      ],
      "metadata": {
        "id": "qiZC68-QUuhz"
      },
      "execution_count": null,
      "outputs": []
    },
    {
      "cell_type": "code",
      "source": [
        "unique(df_credit_card$EDUCATION)"
      ],
      "metadata": {
        "colab": {
          "base_uri": "https://localhost:8080/",
          "height": 52
        },
        "id": "B4y07sXrfFON",
        "outputId": "ae8508f8-f023-49b3-9782-b24dcd5d4524"
      },
      "execution_count": null,
      "outputs": [
        {
          "output_type": "display_data",
          "data": {
            "text/html": [
              "<style>\n",
              ".list-inline {list-style: none; margin:0; padding: 0}\n",
              ".list-inline>li {display: inline-block}\n",
              ".list-inline>li:not(:last-child)::after {content: \"\\00b7\"; padding: 0 .5ex}\n",
              "</style>\n",
              "<ol class=list-inline><li>'Higher education'</li><li>'Secondary / secondary special'</li><li>'Incomplete higher'</li><li>'Lower secondary'</li><li>'Academic degree'</li></ol>\n"
            ],
            "text/markdown": "1. 'Higher education'\n2. 'Secondary / secondary special'\n3. 'Incomplete higher'\n4. 'Lower secondary'\n5. 'Academic degree'\n\n\n",
            "text/latex": "\\begin{enumerate*}\n\\item 'Higher education'\n\\item 'Secondary / secondary special'\n\\item 'Incomplete higher'\n\\item 'Lower secondary'\n\\item 'Academic degree'\n\\end{enumerate*}\n",
            "text/plain": [
              "[1] \"Higher education\"              \"Secondary / secondary special\"\n",
              "[3] \"Incomplete higher\"             \"Lower secondary\"              \n",
              "[5] \"Academic degree\"              "
            ]
          },
          "metadata": {}
        }
      ]
    },
    {
      "cell_type": "code",
      "source": [
        "df_credit_card$label <- factor(df_credit_card$label)"
      ],
      "metadata": {
        "id": "mol4urEVibHF"
      },
      "execution_count": null,
      "outputs": []
    },
    {
      "cell_type": "markdown",
      "source": [
        "Para SVM tenemos que castear algunas columnas con variables categórícas, es decir, convertims cada categoría en una columna con valores 0 o 1 dependiendo si se cumple o no la categoría.\n"
      ],
      "metadata": {
        "id": "zIk5EuK5j6rI"
      }
    },
    {
      "cell_type": "code",
      "source": [
        "columnas_a_castear <- c('EDUCATION', 'Marital_status', 'Type_Income', 'Housing_type')\n",
        "\n",
        "df_credit_cardSVM<-melt(df_credit_card,measure.vars = columnas_a_castear)\n",
        "# Utilizamos fastDummies para convertir las columnas en filas\n",
        "df_credit_cardSVM <- dcast(df_credit_cardSVM,...~value,fun.aggregate = length,fill = 0)"
      ],
      "metadata": {
        "id": "gS3EASjkTgyU"
      },
      "execution_count": null,
      "outputs": []
    },
    {
      "cell_type": "code",
      "source": [
        "colnames(df_credit_cardSVM)"
      ],
      "metadata": {
        "colab": {
          "base_uri": "https://localhost:8080/",
          "height": 121
        },
        "id": "-M3LNlaxiEP1",
        "outputId": "61dacd2e-9aef-4f52-85b1-e9bf075406f0"
      },
      "execution_count": null,
      "outputs": [
        {
          "output_type": "display_data",
          "data": {
            "text/html": [
              "<style>\n",
              ".list-inline {list-style: none; margin:0; padding: 0}\n",
              ".list-inline>li {display: inline-block}\n",
              ".list-inline>li:not(:last-child)::after {content: \"\\00b7\"; padding: 0 .5ex}\n",
              "</style>\n",
              "<ol class=list-inline><li>'GENDER'</li><li>'Car_Owner'</li><li>'Propert_Owner'</li><li>'CHILDREN'</li><li>'Annual_income'</li><li>'Family_Members'</li><li>'age'</li><li>'Employed'</li><li>'label'</li><li>'variable'</li><li>'Academic degree'</li><li>'Civil marriage'</li><li>'Co-op apartment'</li><li>'Commercial associate'</li><li>'Higher education'</li><li>'House / apartment'</li><li>'Incomplete higher'</li><li>'Lower secondary'</li><li>'Married'</li><li>'Municipal apartment'</li><li>'Office apartment'</li><li>'Pensioner'</li><li>'Rented apartment'</li><li>'Secondary / secondary special'</li><li>'Separated'</li><li>'Single / not married'</li><li>'State servant'</li><li>'Widow'</li><li>'With parents'</li><li>'Working'</li></ol>\n"
            ],
            "text/markdown": "1. 'GENDER'\n2. 'Car_Owner'\n3. 'Propert_Owner'\n4. 'CHILDREN'\n5. 'Annual_income'\n6. 'Family_Members'\n7. 'age'\n8. 'Employed'\n9. 'label'\n10. 'variable'\n11. 'Academic degree'\n12. 'Civil marriage'\n13. 'Co-op apartment'\n14. 'Commercial associate'\n15. 'Higher education'\n16. 'House / apartment'\n17. 'Incomplete higher'\n18. 'Lower secondary'\n19. 'Married'\n20. 'Municipal apartment'\n21. 'Office apartment'\n22. 'Pensioner'\n23. 'Rented apartment'\n24. 'Secondary / secondary special'\n25. 'Separated'\n26. 'Single / not married'\n27. 'State servant'\n28. 'Widow'\n29. 'With parents'\n30. 'Working'\n\n\n",
            "text/latex": "\\begin{enumerate*}\n\\item 'GENDER'\n\\item 'Car\\_Owner'\n\\item 'Propert\\_Owner'\n\\item 'CHILDREN'\n\\item 'Annual\\_income'\n\\item 'Family\\_Members'\n\\item 'age'\n\\item 'Employed'\n\\item 'label'\n\\item 'variable'\n\\item 'Academic degree'\n\\item 'Civil marriage'\n\\item 'Co-op apartment'\n\\item 'Commercial associate'\n\\item 'Higher education'\n\\item 'House / apartment'\n\\item 'Incomplete higher'\n\\item 'Lower secondary'\n\\item 'Married'\n\\item 'Municipal apartment'\n\\item 'Office apartment'\n\\item 'Pensioner'\n\\item 'Rented apartment'\n\\item 'Secondary / secondary special'\n\\item 'Separated'\n\\item 'Single / not married'\n\\item 'State servant'\n\\item 'Widow'\n\\item 'With parents'\n\\item 'Working'\n\\end{enumerate*}\n",
            "text/plain": [
              " [1] \"GENDER\"                        \"Car_Owner\"                    \n",
              " [3] \"Propert_Owner\"                 \"CHILDREN\"                     \n",
              " [5] \"Annual_income\"                 \"Family_Members\"               \n",
              " [7] \"age\"                           \"Employed\"                     \n",
              " [9] \"label\"                         \"variable\"                     \n",
              "[11] \"Academic degree\"               \"Civil marriage\"               \n",
              "[13] \"Co-op apartment\"               \"Commercial associate\"         \n",
              "[15] \"Higher education\"              \"House / apartment\"            \n",
              "[17] \"Incomplete higher\"             \"Lower secondary\"              \n",
              "[19] \"Married\"                       \"Municipal apartment\"          \n",
              "[21] \"Office apartment\"              \"Pensioner\"                    \n",
              "[23] \"Rented apartment\"              \"Secondary / secondary special\"\n",
              "[25] \"Separated\"                     \"Single / not married\"         \n",
              "[27] \"State servant\"                 \"Widow\"                        \n",
              "[29] \"With parents\"                  \"Working\"                      "
            ]
          },
          "metadata": {}
        }
      ]
    },
    {
      "cell_type": "code",
      "source": [
        "str(df_credit_cardSVM)"
      ],
      "metadata": {
        "colab": {
          "base_uri": "https://localhost:8080/"
        },
        "id": "bZASyhKJkP4M",
        "outputId": "9e5d123e-6d28-413d-fc95-c4e5af4fc6ad"
      },
      "execution_count": null,
      "outputs": [
        {
          "output_type": "stream",
          "name": "stdout",
          "text": [
            "'data.frame':\t5112 obs. of  30 variables:\n",
            " $ GENDER                       : chr  \"F\" \"F\" \"F\" \"F\" ...\n",
            " $ Car_Owner                    : chr  \"N\" \"N\" \"N\" \"N\" ...\n",
            " $ Propert_Owner                : chr  \"N\" \"N\" \"N\" \"N\" ...\n",
            " $ CHILDREN                     : int  0 0 0 0 0 0 0 0 0 0 ...\n",
            " $ Annual_income                : num  33750 33750 33750 33750 45000 ...\n",
            " $ Family_Members               : int  2 2 2 2 1 1 1 1 2 2 ...\n",
            " $ age                          : int  52 52 52 52 39 39 39 39 38 38 ...\n",
            " $ Employed                     : chr  \"n\" \"n\" \"n\" \"n\" ...\n",
            " $ label                        : Factor w/ 2 levels \"0\",\"1\": 1 1 1 1 1 1 1 1 1 1 ...\n",
            " $ variable                     : Factor w/ 4 levels \"EDUCATION\",\"Marital_status\",..: 1 2 3 4 1 2 3 4 1 2 ...\n",
            " $ Academic degree              : num  0 0 0 0 0 0 0 0 0 0 ...\n",
            " $ Civil marriage               : num  0 0 0 0 0 0 0 0 0 0 ...\n",
            " $ Co-op apartment              : num  0 0 0 0 0 0 0 0 0 0 ...\n",
            " $ Commercial associate         : num  0 0 0 0 0 0 0 0 0 0 ...\n",
            " $ Higher education             : num  1 0 0 0 0 0 0 0 0 0 ...\n",
            " $ House / apartment            : num  0 0 0 1 0 0 0 1 0 0 ...\n",
            " $ Incomplete higher            : num  0 0 0 0 0 0 0 0 0 0 ...\n",
            " $ Lower secondary              : num  0 0 0 0 0 0 0 0 0 0 ...\n",
            " $ Married                      : num  0 1 0 0 0 0 0 0 0 1 ...\n",
            " $ Municipal apartment          : num  0 0 0 0 0 0 0 0 0 0 ...\n",
            " $ Office apartment             : num  0 0 0 0 0 0 0 0 0 0 ...\n",
            " $ Pensioner                    : num  0 0 1 0 0 0 0 0 0 0 ...\n",
            " $ Rented apartment             : num  0 0 0 0 0 0 0 0 0 0 ...\n",
            " $ Secondary / secondary special: num  0 0 0 0 1 0 0 0 1 0 ...\n",
            " $ Separated                    : num  0 0 0 0 0 1 0 0 0 0 ...\n",
            " $ Single / not married         : num  0 0 0 0 0 0 0 0 0 0 ...\n",
            " $ State servant                : num  0 0 0 0 0 0 0 0 0 0 ...\n",
            " $ Widow                        : num  0 0 0 0 0 0 0 0 0 0 ...\n",
            " $ With parents                 : num  0 0 0 0 0 0 0 0 0 0 ...\n",
            " $ Working                      : num  0 0 0 0 0 0 1 0 0 0 ...\n"
          ]
        }
      ]
    },
    {
      "cell_type": "code",
      "source": [
        "df_credit_cardSVM<-subset(df_credit_cardSVM,select = -variable)"
      ],
      "metadata": {
        "id": "U14KjocIkKm8"
      },
      "execution_count": null,
      "outputs": []
    },
    {
      "cell_type": "code",
      "source": [
        "df_credit_cardSVM<-df_credit_cardSVM %>% select(-label,everything(),label)"
      ],
      "metadata": {
        "id": "bAciDbAVkvZt"
      },
      "execution_count": null,
      "outputs": []
    },
    {
      "cell_type": "code",
      "source": [
        "str(df_credit_cardSVM)"
      ],
      "metadata": {
        "id": "MugnMd0nBKME",
        "colab": {
          "base_uri": "https://localhost:8080/"
        },
        "outputId": "92b39983-bafc-4916-e3a5-440bb8d0c058"
      },
      "execution_count": null,
      "outputs": [
        {
          "output_type": "stream",
          "name": "stdout",
          "text": [
            "'data.frame':\t5112 obs. of  29 variables:\n",
            " $ GENDER                       : chr  \"F\" \"F\" \"F\" \"F\" ...\n",
            " $ Car_Owner                    : chr  \"N\" \"N\" \"N\" \"N\" ...\n",
            " $ Propert_Owner                : chr  \"N\" \"N\" \"N\" \"N\" ...\n",
            " $ CHILDREN                     : int  0 0 0 0 0 0 0 0 0 0 ...\n",
            " $ Annual_income                : num  33750 33750 33750 33750 45000 ...\n",
            " $ Family_Members               : int  2 2 2 2 1 1 1 1 2 2 ...\n",
            " $ age                          : int  52 52 52 52 39 39 39 39 38 38 ...\n",
            " $ Employed                     : chr  \"n\" \"n\" \"n\" \"n\" ...\n",
            " $ Academic degree              : num  0 0 0 0 0 0 0 0 0 0 ...\n",
            " $ Civil marriage               : num  0 0 0 0 0 0 0 0 0 0 ...\n",
            " $ Co-op apartment              : num  0 0 0 0 0 0 0 0 0 0 ...\n",
            " $ Commercial associate         : num  0 0 0 0 0 0 0 0 0 0 ...\n",
            " $ Higher education             : num  1 0 0 0 0 0 0 0 0 0 ...\n",
            " $ House / apartment            : num  0 0 0 1 0 0 0 1 0 0 ...\n",
            " $ Incomplete higher            : num  0 0 0 0 0 0 0 0 0 0 ...\n",
            " $ Lower secondary              : num  0 0 0 0 0 0 0 0 0 0 ...\n",
            " $ Married                      : num  0 1 0 0 0 0 0 0 0 1 ...\n",
            " $ Municipal apartment          : num  0 0 0 0 0 0 0 0 0 0 ...\n",
            " $ Office apartment             : num  0 0 0 0 0 0 0 0 0 0 ...\n",
            " $ Pensioner                    : num  0 0 1 0 0 0 0 0 0 0 ...\n",
            " $ Rented apartment             : num  0 0 0 0 0 0 0 0 0 0 ...\n",
            " $ Secondary / secondary special: num  0 0 0 0 1 0 0 0 1 0 ...\n",
            " $ Separated                    : num  0 0 0 0 0 1 0 0 0 0 ...\n",
            " $ Single / not married         : num  0 0 0 0 0 0 0 0 0 0 ...\n",
            " $ State servant                : num  0 0 0 0 0 0 0 0 0 0 ...\n",
            " $ Widow                        : num  0 0 0 0 0 0 0 0 0 0 ...\n",
            " $ With parents                 : num  0 0 0 0 0 0 0 0 0 0 ...\n",
            " $ Working                      : num  0 0 0 0 0 0 1 0 0 0 ...\n",
            " $ label                        : Factor w/ 2 levels \"0\",\"1\": 1 1 1 1 1 1 1 1 1 1 ...\n"
          ]
        }
      ]
    },
    {
      "cell_type": "code",
      "source": [
        "# Eliminamos las columnas en df_credit_cardSVM\n",
        "df_credit_cardSVM <- df_credit_cardSVM[, !(names(df_credit_cardSVM) %in% columnas_a_castear)]"
      ],
      "metadata": {
        "id": "-8AuuwmULtH5"
      },
      "execution_count": null,
      "outputs": []
    },
    {
      "cell_type": "code",
      "source": [
        "df_credit_cardSVM <- df_credit_cardSVM %>% select(-label, everything(), label) #Movemos la columna de la etiqueta al final"
      ],
      "metadata": {
        "id": "6qKmnGkQadiJ"
      },
      "execution_count": null,
      "outputs": []
    },
    {
      "cell_type": "code",
      "source": [
        "table(df_credit_cardSVM$label)"
      ],
      "metadata": {
        "id": "dE7sxvGhHLFr",
        "colab": {
          "base_uri": "https://localhost:8080/",
          "height": 69
        },
        "outputId": "3d4fa4cb-d819-4374-ea6e-74271ce8114f"
      },
      "execution_count": null,
      "outputs": [
        {
          "output_type": "display_data",
          "data": {
            "text/plain": [
              "\n",
              "   0    1 \n",
              "4660  452 "
            ]
          },
          "metadata": {}
        }
      ]
    },
    {
      "cell_type": "markdown",
      "source": [
        "# Solucionamos el desbalanceo"
      ],
      "metadata": {
        "id": "P-3wTNxOG8RF"
      }
    },
    {
      "cell_type": "markdown",
      "source": [
        "Opción 1, elegir 160 filas aleatorias con label = 0"
      ],
      "metadata": {
        "id": "wZycJePFHICa"
      }
    },
    {
      "cell_type": "code",
      "source": [
        "# Creamos un subconjunto de 160 filas con label = 0 al azar\n",
        "df_label_0 <- df_credit_card[df_credit_card$label == 0, ] # Creamos un df con las filas con etiqueta 0\n",
        "sampled_df_label_0 <- df_label_0[sample(nrow(df_label_0), 160), ]\n",
        "\n",
        "# Creamos un subconjunto con las filas con label = 1\n",
        "df_label_1 <- df_credit_card[df_credit_card$label == 1, ]\n",
        "\n",
        "# Combinamos los subconjuntos en un DataFrame balanceado\n",
        "df_balanceado160 <- rbind(sampled_df_label_0, df_label_1)"
      ],
      "metadata": {
        "id": "cu_sG7zWG7dw"
      },
      "execution_count": null,
      "outputs": []
    },
    {
      "cell_type": "code",
      "source": [
        "table(df_balanceado160$label)"
      ],
      "metadata": {
        "id": "s67TXmC5OWa8",
        "colab": {
          "base_uri": "https://localhost:8080/",
          "height": 69
        },
        "outputId": "c29d4d35-1c2e-4288-e3f0-1d50c2ef0b0a"
      },
      "execution_count": null,
      "outputs": [
        {
          "output_type": "display_data",
          "data": {
            "text/plain": [
              "\n",
              "  0   1 \n",
              "160 160 "
            ]
          },
          "metadata": {}
        }
      ]
    },
    {
      "cell_type": "markdown",
      "source": [
        "Opción 2, duplicamos las flas con label = 1"
      ],
      "metadata": {
        "id": "cTswgZvMMolh"
      }
    },
    {
      "cell_type": "code",
      "source": [
        "# Creamos un subconjunto con las filas con label = 1\n",
        "df_label_1 <- df_credit_card[df_credit_card$label == 1, ]\n",
        "\n",
        "# Duplicamos las filas con label = 1\n",
        "duplicados_label_1 <- rbind(df_label_1, df_label_1)\n",
        "\n",
        "# Creamos un subconjunto de 320 filas con label = 0 al azar\n",
        "df_label_0 <- df_credit_card[df_credit_card$label == 0, ]\n",
        "sampled_df_label_0 <- df_label_0[sample(nrow(df_label_0), 320), ]\n",
        "\n",
        "# Combinamos los DataFrames de 320 filas obtenidos\n",
        "df_balanceado320 <- rbind(duplicados_label_1, sampled_df_label_0)"
      ],
      "metadata": {
        "id": "GjE0OwpkMoGt"
      },
      "execution_count": null,
      "outputs": []
    },
    {
      "cell_type": "code",
      "source": [
        "str(df_balanceado320)"
      ],
      "metadata": {
        "id": "UgglyO47OPn9",
        "colab": {
          "base_uri": "https://localhost:8080/"
        },
        "outputId": "f4f5f19a-d9df-41a8-add2-319f9131cf44"
      },
      "execution_count": null,
      "outputs": [
        {
          "output_type": "stream",
          "name": "stdout",
          "text": [
            "'data.frame':\t640 obs. of  13 variables:\n",
            " $ GENDER        : chr  \"M\" \"F\" \"F\" \"F\" ...\n",
            " $ Car_Owner     : chr  \"Y\" \"Y\" \"Y\" \"Y\" ...\n",
            " $ Propert_Owner : chr  \"Y\" \"N\" \"N\" \"N\" ...\n",
            " $ CHILDREN      : int  0 0 0 0 0 1 1 1 0 0 ...\n",
            " $ Annual_income : num  180000 315000 315000 315000 180000 450000 450000 450000 90000 90000 ...\n",
            " $ Family_Members: int  2 2 2 2 2 3 3 1 2 2 ...\n",
            " $ age           : int  51 37 37 37 60 49 49 49 51 51 ...\n",
            " $ Employed      : chr  \"n\" \"y\" \"y\" \"y\" ...\n",
            " $ EDUCATION     : chr  \"Higher education\" \"Higher education\" \"Higher education\" \"Higher education\" ...\n",
            " $ Marital_status: chr  \"Married\" \"Married\" \"Married\" \"Married\" ...\n",
            " $ Type_Income   : chr  \"Pensioner\" \"Commercial associate\" \"Commercial associate\" \"Commercial associate\" ...\n",
            " $ Housing_type  : chr  \"House / apartment\" \"House / apartment\" \"House / apartment\" \"House / apartment\" ...\n",
            " $ label         : Factor w/ 2 levels \"0\",\"1\": 2 2 2 2 2 2 2 2 2 2 ...\n"
          ]
        }
      ]
    },
    {
      "cell_type": "code",
      "source": [
        "table(df_balanceado320$label)"
      ],
      "metadata": {
        "colab": {
          "base_uri": "https://localhost:8080/",
          "height": 69
        },
        "id": "V7aar0kbOfkT",
        "outputId": "ed1b13d4-5df9-48d6-bf88-4df75457416f"
      },
      "execution_count": null,
      "outputs": [
        {
          "output_type": "display_data",
          "data": {
            "text/plain": [
              "\n",
              "  0   1 \n",
              "320 320 "
            ]
          },
          "metadata": {}
        }
      ]
    },
    {
      "cell_type": "markdown",
      "source": [
        "# Comenzamos con SVM\n",
        "Creamos los df balanceados con el df resultante después del casteo"
      ],
      "metadata": {
        "id": "jh5tjUpWgqAH"
      }
    },
    {
      "cell_type": "markdown",
      "source": [
        "Opción 1 TRABAJAMOS CON EL DATASET BALANCEADO DE 160 DATOS POR CLASE"
      ],
      "metadata": {
        "id": "FtBfskZhSnDe"
      }
    },
    {
      "cell_type": "code",
      "source": [
        "# Creamos un subconjunto de 160 filas con label = 0 al azar\n",
        "df_label_0 <- df_credit_cardSVM[df_credit_cardSVM$label == 0, ]\n",
        "sampled_df_label_0 <- df_label_0[sample(nrow(df_label_0), 160), ]\n",
        "\n",
        "# Creamos un subconjunto con las filas con label = 1\n",
        "df_label_1 <- df_credit_cardSVM[df_credit_cardSVM$label == 1, ]\n",
        "\n",
        "# Combinamos los subconjuntos en un DataFrame balanceado\n",
        "df_balanceado160SVM <- rbind(sampled_df_label_0, df_label_1)"
      ],
      "metadata": {
        "id": "0FMpEwX5kLg0"
      },
      "execution_count": null,
      "outputs": []
    },
    {
      "cell_type": "code",
      "source": [
        "set.seed(2023) #seteamos la semilla para que el experimento sea reproducible\n",
        "t.ids <- createDataPartition(df_balanceado160SVM$label, p =0.7, list=F) #particionamos el df en 70% para entrenamiento y 30% para prueba\n",
        "modelo <- svm(label ~ ., data = df_balanceado160SVM[t.ids, ]) #entrenamiento\n",
        "prediccion <- predict(modelo, df_balanceado160SVM[-t.ids, ]) #prueba\n",
        "matriz_confusion <- table(df_balanceado160SVM$label[-t.ids], prediccion, dnn = c('Real', 'Predicho')) #creamos una matriz de confusión"
      ],
      "metadata": {
        "id": "q0zbC8HQgzqW",
        "colab": {
          "base_uri": "https://localhost:8080/"
        },
        "outputId": "015ec8ce-3a4c-4fdc-e22e-df8b68178818"
      },
      "execution_count": null,
      "outputs": [
        {
          "output_type": "stream",
          "name": "stderr",
          "text": [
            "Warning message in svm.default(x, y, scale = scale, ..., na.action = na.action):\n",
            "“Variable(s) ‘X.Academic.degree.’ constant. Cannot scale data.”\n"
          ]
        }
      ]
    },
    {
      "cell_type": "code",
      "source": [
        "table(df_balanceado160$label)"
      ],
      "metadata": {
        "colab": {
          "base_uri": "https://localhost:8080/",
          "height": 69
        },
        "id": "jLtgGzgGbv08",
        "outputId": "2ebd4255-74a1-40a6-8ae2-1ee266fdfc18"
      },
      "execution_count": null,
      "outputs": [
        {
          "output_type": "display_data",
          "data": {
            "text/plain": [
              "\n",
              "  0   1 \n",
              "160 160 "
            ]
          },
          "metadata": {}
        }
      ]
    },
    {
      "cell_type": "code",
      "source": [
        "matriz_confusion"
      ],
      "metadata": {
        "id": "5BJGP5Hgb9FY",
        "colab": {
          "base_uri": "https://localhost:8080/",
          "height": 86
        },
        "outputId": "540f80ef-a7b1-4979-d150-077ffc87714e"
      },
      "execution_count": null,
      "outputs": [
        {
          "output_type": "display_data",
          "data": {
            "text/plain": [
              "    Predicho\n",
              "Real   0   1\n",
              "   0  13  35\n",
              "   1   3 132"
            ]
          },
          "metadata": {}
        }
      ]
    },
    {
      "cell_type": "code",
      "source": [
        "sum(prediccion != df_balanceado160SVM$label[-t.ids])/length(df_balanceado160SVM$label[-t.ids]) #Error calculado como (total de filas mal clasificadas/total de filas)"
      ],
      "metadata": {
        "id": "ScXEQY6yPgh8",
        "colab": {
          "base_uri": "https://localhost:8080/",
          "height": 34
        },
        "outputId": "cedbc226-bae4-4667-fa3b-b3563a1e3b57"
      },
      "execution_count": null,
      "outputs": [
        {
          "output_type": "display_data",
          "data": {
            "text/html": [
              "0.207650273224044"
            ],
            "text/markdown": "0.207650273224044",
            "text/latex": "0.207650273224044",
            "text/plain": [
              "[1] 0.2076503"
            ]
          },
          "metadata": {}
        }
      ]
    },
    {
      "cell_type": "code",
      "source": [
        "1 - sum(diag(matriz_confusion)) / sum(matriz_confusion) #Error calculado usando la matriz de confusión (equivalente a la anterior)VER\n"
      ],
      "metadata": {
        "id": "cehNNyMWRuKl",
        "colab": {
          "base_uri": "https://localhost:8080/",
          "height": 34
        },
        "outputId": "436403ba-e8cf-4bad-c700-b34388dc3ee1"
      },
      "execution_count": null,
      "outputs": [
        {
          "output_type": "display_data",
          "data": {
            "text/html": [
              "0.207650273224044"
            ],
            "text/markdown": "0.207650273224044",
            "text/latex": "0.207650273224044",
            "text/plain": [
              "[1] 0.2076503"
            ]
          },
          "metadata": {}
        }
      ]
    },
    {
      "cell_type": "code",
      "source": [
        "# Calculamos las métricas de precisión y sensibilidad\n",
        "precision <- (matriz_confusion[1, 1] + matriz_confusion[2, 2]) / sum(matriz_confusion)\n",
        "sensibilidad <- matriz_confusion[2, 2] / sum(matriz_confusion[2, ])\n",
        "print(precision)\n",
        "print(sensibilidad)"
      ],
      "metadata": {
        "id": "x2J5VyozZI0t",
        "colab": {
          "base_uri": "https://localhost:8080/"
        },
        "outputId": "4c4c925c-8061-485b-cb6f-daf972cfb0ae"
      },
      "execution_count": null,
      "outputs": [
        {
          "output_type": "stream",
          "name": "stdout",
          "text": [
            "[1] 0.8087432\n",
            "[1] 0.9925926\n"
          ]
        }
      ]
    },
    {
      "cell_type": "markdown",
      "source": [
        "Opción 2 TRABAJAMOS CON EL DATASET BALANCEADO DE 320 DATOS POR CLASE"
      ],
      "metadata": {
        "id": "jyaTYJiESwft"
      }
    },
    {
      "cell_type": "code",
      "source": [
        "# Creamos un subconjunto con las filas con label = 1\n",
        "df_label_1 <- df_credit_cardSVM[df_credit_cardSVM$label == 1, ]\n",
        "\n",
        "# Duplicamos las filas con label = 1\n",
        "duplicados_label_1 <- rbind(df_label_1, df_label_1)\n",
        "\n",
        "# Creamos un subconjunto de 1320 filas con label = 0 al azar\n",
        "df_label_0 <- df_credit_cardSVM[df_credit_cardSVM$label == 0, ]\n",
        "sampled_df_label_0 <- df_label_0[sample(nrow(df_label_0), 320), ]\n",
        "\n",
        "# Combinamos los DataFrames de 320 filas obtenidos\n",
        "df_balanceado320SVM <- rbind(duplicados_label_1, sampled_df_label_0)"
      ],
      "metadata": {
        "id": "6uF6HqIRlS1L"
      },
      "execution_count": null,
      "outputs": []
    },
    {
      "cell_type": "code",
      "source": [
        "set.seed(2023)\n",
        "t.ids <- createDataPartition(df_balanceado320SVM$label, p =0.7, list=F)\n",
        "modelo <- svm(label ~ ., data = df_balanceado320SVM[t.ids, ])\n",
        "prediccion <- predict(modelo, df_balanceado320SVM[-t.ids, ])\n",
        "matriz_confusion <- table(df_balanceado320SVM$label[-t.ids], prediccion, dnn = c('Real', 'Predicho'))"
      ],
      "metadata": {
        "id": "DD7AF79-SuFr",
        "colab": {
          "base_uri": "https://localhost:8080/"
        },
        "outputId": "4d8995c4-ba89-49a6-958d-f0771c6e74e0"
      },
      "execution_count": null,
      "outputs": [
        {
          "output_type": "stream",
          "name": "stderr",
          "text": [
            "Warning message in svm.default(x, y, scale = scale, ..., na.action = na.action):\n",
            "“Variable(s) ‘X.Academic.degree.’ constant. Cannot scale data.”\n"
          ]
        }
      ]
    },
    {
      "cell_type": "code",
      "source": [
        "print(matriz_confusion)"
      ],
      "metadata": {
        "colab": {
          "base_uri": "https://localhost:8080/"
        },
        "outputId": "41bc6f3b-b744-4515-e01a-65694949050e",
        "id": "kmcmU26TSuF7"
      },
      "execution_count": null,
      "outputs": [
        {
          "output_type": "stream",
          "name": "stdout",
          "text": [
            "    Predicho\n",
            "Real   0   1\n",
            "   0  57  39\n",
            "   1   5 266\n"
          ]
        }
      ]
    },
    {
      "cell_type": "code",
      "source": [
        "sum(prediccion != df_balanceado320SVM$label[-t.ids])/length(df_balanceado320SVM$label[-t.ids])"
      ],
      "metadata": {
        "id": "d7rUguBQSuF8",
        "colab": {
          "base_uri": "https://localhost:8080/",
          "height": 34
        },
        "outputId": "9f444196-f70c-466a-c1b4-ebcefaa191e1"
      },
      "execution_count": null,
      "outputs": [
        {
          "output_type": "display_data",
          "data": {
            "text/html": [
              "0.119891008174387"
            ],
            "text/markdown": "0.119891008174387",
            "text/latex": "0.119891008174387",
            "text/plain": [
              "[1] 0.119891"
            ]
          },
          "metadata": {}
        }
      ]
    },
    {
      "cell_type": "code",
      "source": [
        "1 - sum(diag(matriz_confusion)) / sum(matriz_confusion)"
      ],
      "metadata": {
        "id": "l4IsjJr7SuF9",
        "colab": {
          "base_uri": "https://localhost:8080/",
          "height": 34
        },
        "outputId": "8b878ee1-2600-4558-d97a-1ea10c0cc826"
      },
      "execution_count": null,
      "outputs": [
        {
          "output_type": "display_data",
          "data": {
            "text/html": [
              "0.119891008174387"
            ],
            "text/markdown": "0.119891008174387",
            "text/latex": "0.119891008174387",
            "text/plain": [
              "[1] 0.119891"
            ]
          },
          "metadata": {}
        }
      ]
    },
    {
      "cell_type": "code",
      "source": [
        "# Precisión\n",
        "precision <- (matriz_confusion[1, 1] + matriz_confusion[2, 2]) / sum(matriz_confusion)\n",
        "\n",
        "# Sensibilidad (Recall)\n",
        "sensibilidad <- matriz_confusion[2, 2] / sum(matriz_confusion[2, ])\n",
        "\n",
        "print(precision)\n",
        "print(sensibilidad)"
      ],
      "metadata": {
        "id": "YbVBkugAZFB_",
        "colab": {
          "base_uri": "https://localhost:8080/"
        },
        "outputId": "11856005-7cfe-4ed7-90a7-85570d6ba1f4"
      },
      "execution_count": null,
      "outputs": [
        {
          "output_type": "stream",
          "name": "stdout",
          "text": [
            "[1] 0.880109\n",
            "[1] 0.9815498\n"
          ]
        }
      ]
    },
    {
      "cell_type": "markdown",
      "source": [
        "Opción 3- TRABAJAMOS CON EL DATASET DESBALANCEADO"
      ],
      "metadata": {
        "id": "nk8rw2UjZ0lQ"
      }
    },
    {
      "cell_type": "code",
      "source": [
        "set.seed(2023)\n",
        "t.ids <- createDataPartition(df_credit_cardSVM$label, p =0.7, list=F)\n",
        "modelo <- svm(label ~ ., data = df_credit_cardSVM[t.ids, ])\n",
        "prediccion <- predict(modelo, df_credit_cardSVM[-t.ids, ])\n",
        "matriz_confusion <- table(df_credit_cardSVM$label[-t.ids], prediccion, dnn = c('Real', 'Predicho'))"
      ],
      "metadata": {
        "id": "zuS7KEGEZum5"
      },
      "execution_count": null,
      "outputs": []
    },
    {
      "cell_type": "code",
      "source": [
        "print(matriz_confusion)"
      ],
      "metadata": {
        "id": "CE10n5mZZuna",
        "colab": {
          "base_uri": "https://localhost:8080/"
        },
        "outputId": "eadcd2bb-30b0-4701-beed-af8fe8640629"
      },
      "execution_count": null,
      "outputs": [
        {
          "output_type": "stream",
          "name": "stdout",
          "text": [
            "    Predicho\n",
            "Real    0    1\n",
            "   0 1398    0\n",
            "   1  135    0\n"
          ]
        }
      ]
    },
    {
      "cell_type": "code",
      "source": [
        "sum(prediccion != df_credit_cardSVM$label[-t.ids])/length(df_credit_cardSVM$label[-t.ids])"
      ],
      "metadata": {
        "id": "d_W_eINtZunb",
        "colab": {
          "base_uri": "https://localhost:8080/",
          "height": 34
        },
        "outputId": "1c832afb-9655-4714-f614-7a63c186bbc3"
      },
      "execution_count": null,
      "outputs": [
        {
          "output_type": "display_data",
          "data": {
            "text/html": [
              "0.0880626223091976"
            ],
            "text/markdown": "0.0880626223091976",
            "text/latex": "0.0880626223091976",
            "text/plain": [
              "[1] 0.08806262"
            ]
          },
          "metadata": {}
        }
      ]
    },
    {
      "cell_type": "code",
      "source": [
        "1 - sum(diag(matriz_confusion)) / sum(matriz_confusion)"
      ],
      "metadata": {
        "id": "sbpnka0uZunb",
        "colab": {
          "base_uri": "https://localhost:8080/",
          "height": 34
        },
        "outputId": "93ac965f-5355-4750-907c-9bd2d3109bbe"
      },
      "execution_count": null,
      "outputs": [
        {
          "output_type": "display_data",
          "data": {
            "text/html": [
              "0.0880626223091977"
            ],
            "text/markdown": "0.0880626223091977",
            "text/latex": "0.0880626223091977",
            "text/plain": [
              "[1] 0.08806262"
            ]
          },
          "metadata": {}
        }
      ]
    },
    {
      "cell_type": "code",
      "source": [
        "# Precisión\n",
        "precision <- (matriz_confusion[1, 1] + matriz_confusion[2, 2]) / sum(matriz_confusion)\n",
        "\n",
        "# Sensibilidad (Recall)\n",
        "sensibilidad <- matriz_confusion[2, 2] / sum(matriz_confusion[2, ])\n",
        "\n",
        "print(precision)\n",
        "print(sensibilidad)"
      ],
      "metadata": {
        "id": "pd8uHTAcZunc",
        "colab": {
          "base_uri": "https://localhost:8080/"
        },
        "outputId": "f80a28a1-c180-47fb-a69b-fb88e21f5453"
      },
      "execution_count": null,
      "outputs": [
        {
          "output_type": "stream",
          "name": "stdout",
          "text": [
            "[1] 0.9119374\n",
            "[1] 0\n"
          ]
        }
      ]
    },
    {
      "cell_type": "markdown",
      "source": [
        "# Random Forest\n",
        "Trabajamos con las columnas de variables categóricas sin castear"
      ],
      "metadata": {
        "id": "LPx4gv6Ea2J0"
      }
    },
    {
      "cell_type": "markdown",
      "source": [
        "TRABAJAMOS CON EL DATASET BALANCEADO DE 160 DATOS POR CLASE"
      ],
      "metadata": {
        "id": "EaP8GVx1XZxS"
      }
    },
    {
      "cell_type": "code",
      "source": [
        "set.seed(2023)\n",
        "t.ids <- createDataPartition(df_balanceado160$label, p =0.7, list=F)\n",
        "modelo_rf <- randomForest(label ~ ., data = df_balanceado160[t.ids, ])\n",
        "prediccion_rf <- predict(modelo_rf, newdata = df_balanceado160[-t.ids, ])\n",
        "matriz_confusion <- table(prediccion_rf, df_balanceado160$label[-t.ids], dnn = c('Real' ,'Predicho'))"
      ],
      "metadata": {
        "id": "oaevi_2ca1k4"
      },
      "execution_count": null,
      "outputs": []
    },
    {
      "cell_type": "code",
      "source": [
        "matriz_confusion"
      ],
      "metadata": {
        "id": "kUFtyPk7ft5-",
        "colab": {
          "base_uri": "https://localhost:8080/",
          "height": 90
        },
        "outputId": "dcbcb49d-ccf5-4c9d-8bd4-4cacc5f60ccf"
      },
      "execution_count": null,
      "outputs": [
        {
          "output_type": "display_data",
          "data": {
            "text/plain": [
              "    Predicho\n",
              "Real  0  1\n",
              "   0 18 15\n",
              "   1 30 33"
            ]
          },
          "metadata": {}
        }
      ]
    },
    {
      "cell_type": "code",
      "source": [
        "1 - sum(diag(matriz_confusion)) / sum(matriz_confusion)"
      ],
      "metadata": {
        "id": "nr8fg85bFZB0",
        "colab": {
          "base_uri": "https://localhost:8080/",
          "height": 34
        },
        "outputId": "d57f6062-5849-4f4d-a6f7-266bd607915d"
      },
      "execution_count": null,
      "outputs": [
        {
          "output_type": "display_data",
          "data": {
            "text/html": [
              "0.3125"
            ],
            "text/markdown": "0.3125",
            "text/latex": "0.3125",
            "text/plain": [
              "[1] 0.3125"
            ]
          },
          "metadata": {}
        }
      ]
    },
    {
      "cell_type": "code",
      "source": [
        "# Precisión\n",
        "precision <- (matriz_confusion[1, 1] + matriz_confusion[2, 2]) / sum(matriz_confusion)\n",
        "\n",
        "# Sensibilidad (Recall)\n",
        "sensibilidad <- matriz_confusion[2, 2] / sum(matriz_confusion[2, ])\n",
        "\n",
        "print(precision)\n",
        "print(sensibilidad)"
      ],
      "metadata": {
        "id": "UFyZSAPzhpBq",
        "colab": {
          "base_uri": "https://localhost:8080/"
        },
        "outputId": "9c7b19db-fb3a-46c3-bd5e-947ca75a77d3"
      },
      "execution_count": null,
      "outputs": [
        {
          "output_type": "stream",
          "name": "stdout",
          "text": [
            "[1] 0.6875\n",
            "[1] 0.6875\n"
          ]
        }
      ]
    },
    {
      "cell_type": "markdown",
      "source": [
        "TRABAJAMOS CON EL DATASET BALANCEADO DE 320 DATOS POR CLASE"
      ],
      "metadata": {
        "id": "v6nUeoYtBHxs"
      }
    },
    {
      "cell_type": "code",
      "source": [
        "set.seed(2023)\n",
        "t.ids <- createDataPartition(df_balanceado320$label, p =0.7, list=F)\n",
        "modelo_rf <- randomForest(label ~ ., data = df_balanceado320[t.ids, ])\n",
        "prediccion_rf <- predict(modelo_rf, newdata = df_balanceado320[-t.ids, ])\n",
        "matriz_confusion <- table(prediccion_rf, df_balanceado320$label[-t.ids], dnn = c('Real' ,'Predicho'))"
      ],
      "metadata": {
        "id": "Ew2759ZfXtKY"
      },
      "execution_count": null,
      "outputs": []
    },
    {
      "cell_type": "code",
      "source": [
        "matriz_confusion"
      ],
      "metadata": {
        "colab": {
          "base_uri": "https://localhost:8080/",
          "height": 86
        },
        "id": "NvR1QwxCYE6f",
        "outputId": "4dd09aa2-27bb-4660-c509-b55e145a09a9"
      },
      "execution_count": null,
      "outputs": [
        {
          "output_type": "display_data",
          "data": {
            "text/plain": [
              "    Predicho\n",
              "Real  0  1\n",
              "   0 66 16\n",
              "   1 30 80"
            ]
          },
          "metadata": {}
        }
      ]
    },
    {
      "cell_type": "code",
      "source": [
        "sum(diag(matriz_confusion)) / sum(matriz_confusion)"
      ],
      "metadata": {
        "colab": {
          "base_uri": "https://localhost:8080/",
          "height": 34
        },
        "id": "PcpAS-rfYGat",
        "outputId": "09eefe32-93b3-4bfa-e58a-a6e083b9b2df"
      },
      "execution_count": null,
      "outputs": [
        {
          "output_type": "display_data",
          "data": {
            "text/html": [
              "0.760416666666667"
            ],
            "text/markdown": "0.760416666666667",
            "text/latex": "0.760416666666667",
            "text/plain": [
              "[1] 0.7604167"
            ]
          },
          "metadata": {}
        }
      ]
    },
    {
      "cell_type": "code",
      "source": [
        "# Precisión\n",
        "precision <- (matriz_confusion[1, 1] + matriz_confusion[2, 2]) / sum(matriz_confusion)\n",
        "\n",
        "# Sensibilidad (Recall)\n",
        "sensibilidad <- matriz_confusion[2, 2] / sum(matriz_confusion[2, ])\n",
        "\n",
        "print(precision)\n",
        "print(sensibilidad)"
      ],
      "metadata": {
        "colab": {
          "base_uri": "https://localhost:8080/"
        },
        "id": "LoupwMX3YSsT",
        "outputId": "ab35de87-9aaa-4b33-dfd3-eeb3cc0effd2"
      },
      "execution_count": null,
      "outputs": [
        {
          "output_type": "stream",
          "name": "stdout",
          "text": [
            "[1] 0.7604167\n",
            "[1] 0.7272727\n"
          ]
        }
      ]
    },
    {
      "cell_type": "markdown",
      "source": [
        "TRABAJADMOS CON EL DATA SET ORIGINAL EL CUAL ESTA DESBALANCEADO"
      ],
      "metadata": {
        "id": "SbxAeCpSZHPY"
      }
    },
    {
      "cell_type": "code",
      "source": [
        "set.seed(2023)\n",
        "t.ids <- createDataPartition(df_credit_card$label, p =0.7, list=F)\n",
        "modelo_rf <- randomForest(label ~ ., data = df_credit_card[t.ids, ])\n",
        "prediccion_rf <- predict(modelo_rf, newdata = df_credit_card[-t.ids, ])\n",
        "matriz_confusion <- table(prediccion_rf, df_credit_card$label[-t.ids], dnn = c('Real' ,'Predicho'))"
      ],
      "metadata": {
        "id": "dRWz1XXqZL9F"
      },
      "execution_count": null,
      "outputs": []
    },
    {
      "cell_type": "code",
      "source": [
        "matriz_confusion"
      ],
      "metadata": {
        "colab": {
          "base_uri": "https://localhost:8080/",
          "height": 86
        },
        "id": "xdRR7-ZoZlb4",
        "outputId": "000596f4-fdc7-41fe-bf98-acd496221831"
      },
      "execution_count": null,
      "outputs": [
        {
          "output_type": "display_data",
          "data": {
            "text/plain": [
              "    Predicho\n",
              "Real   0   1\n",
              "   0 394  40\n",
              "   1   6   8"
            ]
          },
          "metadata": {}
        }
      ]
    },
    {
      "cell_type": "code",
      "source": [
        "1-sum(diag(matriz_confusion)) / sum(matriz_confusion)"
      ],
      "metadata": {
        "colab": {
          "base_uri": "https://localhost:8080/",
          "height": 34
        },
        "id": "-omUdjySZ0cA",
        "outputId": "3bacec99-3e89-40a4-f9f0-521ff5250375"
      },
      "execution_count": null,
      "outputs": [
        {
          "output_type": "display_data",
          "data": {
            "text/html": [
              "0.102678571428571"
            ],
            "text/markdown": "0.102678571428571",
            "text/latex": "0.102678571428571",
            "text/plain": [
              "[1] 0.1026786"
            ]
          },
          "metadata": {}
        }
      ]
    },
    {
      "cell_type": "code",
      "source": [
        "# Precisión\n",
        "precision <- (matriz_confusion[1, 1] + matriz_confusion[2, 2]) / sum(matriz_confusion)\n",
        "\n",
        "# Sensibilidad (Recall)\n",
        "sensibilidad <- matriz_confusion[2, 2] / sum(matriz_confusion[2, ])\n",
        "\n",
        "print(precision)\n",
        "print(sensibilidad)"
      ],
      "metadata": {
        "colab": {
          "base_uri": "https://localhost:8080/"
        },
        "id": "l7fZ4YcQaVQ7",
        "outputId": "4e579d30-40ed-4bdc-8feb-c85dffc42fa3"
      },
      "execution_count": null,
      "outputs": [
        {
          "output_type": "stream",
          "name": "stdout",
          "text": [
            "[1] 0.8973214\n",
            "[1] 0.5714286\n"
          ]
        }
      ]
    }
  ]
}